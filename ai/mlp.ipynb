{
 "cells": [
  {
   "cell_type": "code",
   "execution_count": 1,
   "metadata": {},
   "outputs": [],
   "source": [
    "# Import dependencies\n",
    "\n",
    "import numpy as np\n",
    "import pandas as pd\n",
    "\n",
    "import os\n",
    "\n",
    "%load_ext autoreload\n",
    "%autoreload 2\n",
    "\n",
    "SEED = 42\n",
    "np.random.seed(SEED)\n",
    "\n",
    "SLIDING_WINDOW_SIZE = 10"
   ]
  },
  {
   "cell_type": "code",
   "execution_count": 2,
   "metadata": {},
   "outputs": [
    {
     "name": "stdout",
     "output_type": "stream",
     "text": [
      "Shape of feature vector is (17680, 10, 6)\n",
      "Shape of output vector is (17680,)\n"
     ]
    }
   ],
   "source": [
    "# Load data\n",
    "import helpers\n",
    "\n",
    "GROUPING_FEATURE = \"datetime_key\"\n",
    "LABEL = \"activity\"\n",
    "FEATURES = [\"acceleration_x\", \"acceleration_y\", \"acceleration_z\", \"gyro_x\", \"gyro_y\", \"gyro_z\"]\n",
    "\n",
    "data_path = os.path.join('dataset', 'dataset_preprocessed.csv')\n",
    "dataframe = pd.read_csv(data_path)\n",
    "dfs = [v for _, v in dataframe.groupby(GROUPING_FEATURE)]\n",
    "\n",
    "tuples = []\n",
    "\n",
    "for df in dfs:\n",
    "    tuples.append((df, df[LABEL].iloc[0]))\n",
    "  \n",
    "x, y = helpers.generate_data(tuples, features=[\"acceleration_x\", \"acceleration_y\", \"acceleration_z\", \"gyro_x\", \"gyro_y\", \"gyro_z\"], window_size=SLIDING_WINDOW_SIZE)\n",
    "\n",
    "print(\"Shape of feature vector is \" + str(x.shape))\n",
    "print(\"Shape of output vector is \" + str(y.shape))"
   ]
  },
  {
   "cell_type": "code",
   "execution_count": 3,
   "metadata": {},
   "outputs": [
    {
     "name": "stdout",
     "output_type": "stream",
     "text": [
      "Shape of raw_x_train is (14144, 10, 6)\n",
      "Shape of y_train is (14144,)\n",
      "Shape of raw_x_test is (3536, 10, 6)\n",
      "Shape of y_test is (3536,)\n"
     ]
    }
   ],
   "source": [
    "# Split data\n",
    "from sklearn.model_selection import train_test_split\n",
    "\n",
    "raw_x_train, raw_x_test, y_train, y_test = train_test_split(x, y, test_size=0.2, random_state=SEED)\n",
    "\n",
    "print(\"Shape of raw_x_train is \" + str(raw_x_train.shape))\n",
    "print(\"Shape of y_train is \" + str(y_train.shape))\n",
    "print(\"Shape of raw_x_test is \" + str(raw_x_test.shape))\n",
    "print(\"Shape of y_test is \" + str(y_test.shape))"
   ]
  },
  {
   "cell_type": "code",
   "execution_count": 4,
   "metadata": {},
   "outputs": [
    {
     "name": "stdout",
     "output_type": "stream",
     "text": [
      "Shape of training feature vector is (14144, 80)\n",
      "Shape of testing feature vector is (3536, 80)\n"
     ]
    }
   ],
   "source": [
    "# Extract features\n",
    "\n",
    "x_train = helpers.convert_time_series_to_features(raw_x_train)\n",
    "print(\"Shape of training feature vector is \" + str(x_train.shape))\n",
    "\n",
    "x_test = helpers.convert_time_series_to_features(raw_x_test)\n",
    "print(\"Shape of testing feature vector is \" + str(x_test.shape))"
   ]
  },
  {
   "cell_type": "code",
   "execution_count": 5,
   "metadata": {},
   "outputs": [
    {
     "name": "stderr",
     "output_type": "stream",
     "text": [
      "C:\\Users\\tohmi\\AppData\\Local\\Temp\\ipykernel_34080\\946110836.py:24: UserWarning: Casting complex values to real discards the imaginary part (Triggered internally at C:\\b\\abs_e1nmgx0bk6\\croot\\pytorch-select_1725478824526\\work\\aten\\src\\ATen\\native\\Copy.cpp:300.)\n",
      "  y_pred = model(torch.tensor(x_train).float())\n"
     ]
    },
    {
     "name": "stdout",
     "output_type": "stream",
     "text": [
      "Epoch 0 Loss 0.7885571718215942\n",
      "Epoch 100 Loss 0.4141380786895752\n",
      "Epoch 200 Loss 0.40455079078674316\n",
      "Epoch 300 Loss 0.4001840651035309\n",
      "Epoch 400 Loss 0.39663583040237427\n",
      "Epoch 500 Loss 0.39376768469810486\n",
      "Epoch 600 Loss 0.39077985286712646\n",
      "Epoch 700 Loss 0.3887273967266083\n",
      "Epoch 800 Loss 0.3872818052768707\n",
      "Epoch 900 Loss 0.38595494627952576\n",
      "Epoch 1000 Loss 0.384844571352005\n",
      "Epoch 1100 Loss 0.38379931449890137\n",
      "Epoch 1200 Loss 0.3828781247138977\n",
      "Epoch 1300 Loss 0.3822028338909149\n",
      "Epoch 1400 Loss 0.38154470920562744\n",
      "Accuracy on training set is 0.9338235294117647\n"
     ]
    },
    {
     "data": {
      "text/plain": [
       "[<matplotlib.lines.Line2D at 0x20c85870750>]"
      ]
     },
     "execution_count": 5,
     "metadata": {},
     "output_type": "execute_result"
    },
    {
     "data": {
      "image/png": "[encoded data removed]",
      "text/plain": [
       "<Figure size 640x480 with 1 Axes>"
      ]
     },
     "metadata": {},
     "output_type": "display_data"
    }
   ],
   "source": [
    "import torch\n",
    "import torch.nn as nn\n",
    "\n",
    "LEARNING_RATE = 0.001\n",
    "EPOCHS = 1500\n",
    "\n",
    "# Define the model\n",
    "model = nn.Sequential(\n",
    "    nn.Linear(x_train.shape[1], 128),\n",
    "    nn.ReLU(),\n",
    "    nn.Linear(128, 2),\n",
    "    nn.Softmax(dim=1)\n",
    ")\n",
    "\n",
    "loss_fn = nn.CrossEntropyLoss()\n",
    "optimizer = torch.optim.Adam(model.parameters(), lr=LEARNING_RATE)\n",
    "\n",
    "losses = []\n",
    "\n",
    "for epoch in range(EPOCHS):\n",
    "    model.train()\n",
    "    optimizer.zero_grad()\n",
    "    \n",
    "    y_pred = model(torch.tensor(x_train).float())\n",
    "    loss = loss_fn(y_pred, torch.tensor(y_train).long())\n",
    "    losses.append(loss.item())\n",
    "    \n",
    "    loss.backward()\n",
    "    optimizer.step()\n",
    "    \n",
    "    if epoch % 100 == 0:\n",
    "        print(f\"Epoch {epoch} Loss {loss.item()}\")\n",
    "        \n",
    "model.eval()\n",
    "y_pred = model(torch.tensor(x_train).float())\n",
    "y_pred = torch.argmax(y_pred, dim=1)\n",
    "\n",
    "# Evaluate training accuracy\n",
    "from sklearn.metrics import accuracy_score\n",
    "\n",
    "accuracy = accuracy_score(y_train, y_pred)\n",
    "print(f\"Accuracy on training set is {accuracy}\")\n",
    "\n",
    "# Plot the loss\n",
    "import matplotlib.pyplot as plt\n",
    "\n",
    "plt.plot(losses)"
   ]
  },
  {
   "cell_type": "code",
   "execution_count": 6,
   "metadata": {},
   "outputs": [
    {
     "name": "stdout",
     "output_type": "stream",
     "text": [
      "Accuracy on testing set is 0.9103506787330317\n",
      "              precision    recall  f1-score   support\n",
      "\n",
      "           0       0.90      0.92      0.91      1782\n",
      "           1       0.92      0.90      0.91      1754\n",
      "\n",
      "    accuracy                           0.91      3536\n",
      "   macro avg       0.91      0.91      0.91      3536\n",
      "weighted avg       0.91      0.91      0.91      3536\n",
      "\n"
     ]
    }
   ],
   "source": [
    "# Evaluate the model\n",
    "\n",
    "model.eval()\n",
    "y_pred = model(torch.tensor(x_test).float())\n",
    "y_pred = torch.argmax(y_pred, dim=1)\n",
    "\n",
    "from sklearn.metrics import accuracy_score, classification_report, confusion_matrix, ConfusionMatrixDisplay\n",
    "\n",
    "accuracy = accuracy_score(y_test, y_pred)\n",
    "print(f\"Accuracy on testing set is {accuracy}\")\n",
    "\n",
    "report = classification_report(y_test, y_pred)\n",
    "print(report)\n",
    "\n",
    "# confusion_matrix(y_test, y_pred)\n",
    "# display = ConfusionMatrixDisplay(confusion_matrix(y_test, y_pred), display_labels=range(6))\n",
    "\n",
    "# display.plot()\n"
   ]
  }
 ],
 "metadata": {
  "kernelspec": {
   "display_name": "epfl_ML",
   "language": "python",
   "name": "python3"
  },
  "language_info": {
   "codemirror_mode": {
    "name": "ipython",
    "version": 3
   },
   "file_extension": ".py",
   "mimetype": "text/x-python",
   "name": "python",
   "nbconvert_exporter": "python",
   "pygments_lexer": "ipython3",
   "version": "3.11.9"
  }
 },
 "nbformat": 4,
 "nbformat_minor": 2
}
