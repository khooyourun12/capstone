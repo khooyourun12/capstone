{
 "cells": [
  {
   "cell_type": "code",
   "execution_count": 47,
   "metadata": {},
   "outputs": [
    {
     "name": "stdout",
     "output_type": "stream",
     "text": [
      "The autoreload extension is already loaded. To reload it, use:\n",
      "  %reload_ext autoreload\n"
     ]
    }
   ],
   "source": [
    "# Import dependencies\n",
    "\n",
    "import numpy as np\n",
    "import pandas as pd\n",
    "\n",
    "import os\n",
    "\n",
    "%load_ext autoreload\n",
    "%autoreload 2\n",
    "\n",
    "SEED = 42\n",
    "\n",
    "SLIDING_WINDOW_SIZE = 10"
   ]
  },
  {
   "cell_type": "code",
   "execution_count": 70,
   "metadata": {},
   "outputs": [
    {
     "name": "stdout",
     "output_type": "stream",
     "text": [
      "Shape of feature vector is (17680, 10, 6)\n",
      "Shape of output vector is (17680,)\n"
     ]
    }
   ],
   "source": [
    "# Load data\n",
    "import helpers\n",
    "\n",
    "GROUPING_FEATURE = \"datetime_key\"\n",
    "LABEL = \"activity\"\n",
    "FEATURES = [\"acceleration_x\", \"acceleration_y\", \"acceleration_z\", \"gyro_x\", \"gyro_y\", \"gyro_z\"]\n",
    "\n",
    "data_path = os.path.join('dataset', 'dataset_preprocessed.csv')\n",
    "dataframe = pd.read_csv(data_path)\n",
    "dfs = [v for _, v in dataframe.groupby(GROUPING_FEATURE)]\n",
    "\n",
    "tuples = [(df, label) for df, label in zip(dfs, dfs[0][LABEL])]  \n",
    "  \n",
    "x, y = helpers.generate_data(tuples, features=[\"acceleration_x\", \"acceleration_y\", \"acceleration_z\", \"gyro_x\", \"gyro_y\", \"gyro_z\"], window_size=SLIDING_WINDOW_SIZE)\n",
    "\n",
    "print(\"Shape of feature vector is \" + str(x.shape))\n",
    "print(\"Shape of output vector is \" + str(y.shape))"
   ]
  },
  {
   "cell_type": "code",
   "execution_count": 71,
   "metadata": {},
   "outputs": [
    {
     "name": "stdout",
     "output_type": "stream",
     "text": [
      "Shape of feature vector is (17680, 80)\n"
     ]
    }
   ],
   "source": [
    "# Extract features\n",
    "\n",
    "features = helpers.convert_time_series_to_features(x)\n",
    "print(\"Shape of feature vector is \" + str(features.shape))"
   ]
  },
  {
   "cell_type": "code",
   "execution_count": 74,
   "metadata": {},
   "outputs": [
    {
     "name": "stdout",
     "output_type": "stream",
     "text": [
      "Shape of x_train is (14144, 80)\n",
      "Shape of y_train is (14144,)\n",
      "Shape of x_test is (3536, 80)\n",
      "Shape of y_test is (3536,)\n"
     ]
    }
   ],
   "source": [
    "# Split data\n",
    "from sklearn.model_selection import train_test_split\n",
    "\n",
    "x_train, x_test, y_train, y_test = train_test_split(features, y, test_size=0.2, random_state=SEED)\n",
    "\n",
    "print(\"Shape of x_train is \" + str(x_train.shape))\n",
    "print(\"Shape of y_train is \" + str(y_train.shape))\n",
    "print(\"Shape of x_test is \" + str(x_test.shape))\n",
    "print(\"Shape of y_test is \" + str(y_test.shape))"
   ]
  }
 ],
 "metadata": {
  "kernelspec": {
   "display_name": "epfl_ML",
   "language": "python",
   "name": "python3"
  },
  "language_info": {
   "codemirror_mode": {
    "name": "ipython",
    "version": 3
   },
   "file_extension": ".py",
   "mimetype": "text/x-python",
   "name": "python",
   "nbconvert_exporter": "python",
   "pygments_lexer": "ipython3",
   "version": "3.11.9"
  }
 },
 "nbformat": 4,
 "nbformat_minor": 2
}
