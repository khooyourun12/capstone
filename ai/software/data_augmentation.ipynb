{
 "cells": [
  {
   "cell_type": "code",
   "execution_count": 3,
   "metadata": {},
   "outputs": [],
   "source": [
    "# Load data\n",
    "import os\n",
    "import pandas as pd\n",
    "\n",
    "action_folders = [\n",
    "    \"badminton\",\n",
    "    \"boxing\",\n",
    "    \"fencing\",\n",
    "    \"golf\",\n",
    "    \"reload\",\n",
    "    \"shield\",\n",
    "    \"snowbomb\",\n",
    "]\n",
    "tuples = []\n",
    "test_tuples = []\n",
    "\n",
    "for idx, folder in enumerate(action_folders):\n",
    "    data_path = os.path.join(\"dataset\", folder)\n",
    "    for i, csv_file in enumerate(os.listdir(data_path)):\n",
    "        if csv_file == \"test.csv\":\n",
    "            continue\n",
    "        dataframe = pd.read_csv(os.path.join(data_path, csv_file))\n",
    "        \n",
    "        # Scale dataframe to create new csv\n",
    "        dataframe.iloc[:, 1:] = dataframe.iloc[:, 1:] * 0.9\n",
    "        \n",
    "        # convert dataframe back to csv\n",
    "        dataframe.to_csv(os.path.join(data_path, f\"augmented{i+1}.csv\"), index=False)\n",
    "        "
   ]
  }
 ],
 "metadata": {
  "kernelspec": {
   "display_name": "epfl_ML",
   "language": "python",
   "name": "python3"
  },
  "language_info": {
   "codemirror_mode": {
    "name": "ipython",
    "version": 3
   },
   "file_extension": ".py",
   "mimetype": "text/x-python",
   "name": "python",
   "nbconvert_exporter": "python",
   "pygments_lexer": "ipython3",
   "version": "3.11.9"
  }
 },
 "nbformat": 4,
 "nbformat_minor": 2
}
