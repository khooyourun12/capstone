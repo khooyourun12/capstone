{
 "cells": [
  {
   "cell_type": "code",
   "execution_count": 2,
   "metadata": {},
   "outputs": [],
   "source": [
    "# Load data\n",
    "import os\n",
    "import pandas as pd\n",
    "\n",
    "action_folders = [\n",
    "    \"badminton\",\n",
    "    \"boxing\",\n",
    "    \"fencing\",\n",
    "    \"golf\",\n",
    "    \"logout\",\n",
    "    \"reload\",\n",
    "    \"shield\",\n",
    "    \"snowbomb\",\n",
    "]\n",
    "tuples = []\n",
    "test_tuples = []\n",
    "\n",
    "for idx, folder in enumerate(action_folders):\n",
    "    data_path = os.path.join(\"dataset\", folder)\n",
    "    for i, csv_file in enumerate(os.listdir(data_path)):\n",
    "        if csv_file.startswith(\"augmented_\"):\n",
    "            continue\n",
    "        dataframe = pd.read_csv(os.path.join(data_path, csv_file))\n",
    "        \n",
    "        # Scale dataframe to create new csv where acc_z column is increased by 9.81\n",
    "        dataframe[\"acceleration_z\"] = dataframe[\"acceleration_z\"] + 9.81\n",
    "        \n",
    "        # convert dataframe back to csv\n",
    "        dataframe.to_csv(os.path.join(data_path, f\"augmented_{csv_file}\"), index=False)\n",
    "        "
   ]
  },
  {
   "cell_type": "code",
   "execution_count": null,
   "metadata": {},
   "outputs": [],
   "source": [
    "# Remove all augmented csv files from the dataset folder\n",
    "\n",
    "# Load data\n",
    "import os\n",
    "import pandas as pd\n",
    "\n",
    "action_folders = [\n",
    "    \"badminton\",\n",
    "    \"boxing\",\n",
    "    \"fencing\",\n",
    "    \"golf\",\n",
    "    \"logout\",\n",
    "    \"reload\",\n",
    "    \"shield\",\n",
    "    \"snowbomb\",\n",
    "]\n",
    "\n",
    "for folder in action_folders:\n",
    "    data_path = os.path.join(\"dataset\", folder)\n",
    "    for csv_file in os.listdir(data_path):\n",
    "        if \"augmented\" in csv_file:\n",
    "            os.remove(os.path.join(data_path, csv_file))"
   ]
  }
 ],
 "metadata": {
  "kernelspec": {
   "display_name": "epfl_ML",
   "language": "python",
   "name": "python3"
  },
  "language_info": {
   "codemirror_mode": {
    "name": "ipython",
    "version": 3
   },
   "file_extension": ".py",
   "mimetype": "text/x-python",
   "name": "python",
   "nbconvert_exporter": "python",
   "pygments_lexer": "ipython3",
   "version": "3.11.9"
  }
 },
 "nbformat": 4,
 "nbformat_minor": 2
}
